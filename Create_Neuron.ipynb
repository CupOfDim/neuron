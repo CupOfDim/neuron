{
  "nbformat": 4,
  "nbformat_minor": 0,
  "metadata": {
    "colab": {
      "provenance": [],
      "authorship_tag": "ABX9TyPZQMqL9iBXFqD6cH60eGg8",
      "include_colab_link": true
    },
    "kernelspec": {
      "name": "python3",
      "display_name": "Python 3"
    },
    "language_info": {
      "name": "python"
    }
  },
  "cells": [
    {
      "cell_type": "markdown",
      "metadata": {
        "id": "view-in-github",
        "colab_type": "text"
      },
      "source": [
        "<a href=\"https://colab.research.google.com/github/CupOfDim/neuron/blob/main/Create_Neuron.ipynb\" target=\"_parent\"><img src=\"https://colab.research.google.com/assets/colab-badge.svg\" alt=\"Open In Colab\"/></a>"
      ]
    },
    {
      "cell_type": "code",
      "source": [
        "import numpy as np\n",
        "import pandas as pd\n"
      ],
      "metadata": {
        "id": "eGGh5R9XqDhL"
      },
      "execution_count": null,
      "outputs": []
    },
    {
      "cell_type": "code",
      "execution_count": null,
      "metadata": {
        "id": "qoa_yfmjkyEs"
      },
      "outputs": [],
      "source": [
        "def sigmoid(x):\n",
        "  return 1/(1+np.exp(-x))\n",
        "\n",
        "class Neuron():\n",
        "  def __init__(self, weight, bias):\n",
        "    self.weight = weight\n",
        "    self.bias = bias\n",
        "  def foreward(self, inputs):\n",
        "    total = np.dot(self.weight, inputs) + self.bias\n",
        "    return sigmoid(total)"
      ]
    },
    {
      "cell_type": "code",
      "source": [
        "weight = np.array([0,1])\n",
        "bias = 4\n",
        "n = Neuron(weight, bias)\n",
        "x = np.array([2,3])\n",
        "print(n.foreward(x))"
      ],
      "metadata": {
        "colab": {
          "base_uri": "https://localhost:8080/"
        },
        "id": "e4DjZ8c4qCYr",
        "outputId": "c1a5e974-8b5f-4674-c5d1-dcd96a37d5e4"
      },
      "execution_count": null,
      "outputs": [
        {
          "output_type": "stream",
          "name": "stdout",
          "text": [
            "0.9990889488055994\n"
          ]
        }
      ]
    },
    {
      "cell_type": "code",
      "source": [
        "class NeuronNet():\n",
        "  def __init__(self, weights, bias):\n",
        "    self.weights = weights\n",
        "    self.bias = bias\n",
        "\n",
        "    self.h1 = Neuron(self.weights, self.bias)\n",
        "    self.h2 = Neuron(self.weights, self.bias)\n",
        "    self.o1 = Neuron(self.weights, self.bias)\n",
        "  \n",
        "  def foreward(self,x):\n",
        "    out_h1 = self.h1.foreward(x)\n",
        "    out_h2 = self.h2.foreward(x)\n",
        "\n",
        "    out_o1 = self.o1.foreward(np.array([out_h1, out_h2]))\n",
        "    return out_o1"
      ],
      "metadata": {
        "id": "Nu-jPYwGuC-t"
      },
      "execution_count": null,
      "outputs": []
    },
    {
      "cell_type": "code",
      "source": [
        "weights = [0,1]\n",
        "bias = 1\n",
        "n_net = NeuronNet(weights, bias)\n",
        "x = [2,3]\n",
        "print(n_net.foreward(np.array(x)))"
      ],
      "metadata": {
        "colab": {
          "base_uri": "https://localhost:8080/"
        },
        "id": "0mdkpdGiv3vw",
        "outputId": "cab0d2c3-5ef8-4002-b7e4-f6bfe8131c42"
      },
      "execution_count": null,
      "outputs": [
        {
          "output_type": "stream",
          "name": "stdout",
          "text": [
            "0.8788956696366197\n"
          ]
        }
      ]
    },
    {
      "cell_type": "code",
      "source": [
        "df = pd.DataFrame(columns=[\"Weight\", \"Height\", \"Gender\"])"
      ],
      "metadata": {
        "id": "LLZO0Bs6xdD6"
      },
      "execution_count": null,
      "outputs": []
    },
    {
      "cell_type": "code",
      "source": [
        "df[\"Weight\"] = np.array([133, 160, 152, 120])\n",
        "df[\"Height\"] = np.array([65, 72, 70, 60])\n",
        "df[\"Gender\"] = np.array([1,0,0,1])\n",
        "df.head()"
      ],
      "metadata": {
        "id": "PgxsnUdxyYee"
      },
      "execution_count": null,
      "outputs": []
    },
    {
      "cell_type": "code",
      "source": [
        "y = df[\"Gender\"]\n",
        "df = df.drop(\"Gender\", axis=1)\n"
      ],
      "metadata": {
        "id": "loJ-O9ULzO7A"
      },
      "execution_count": null,
      "outputs": []
    },
    {
      "cell_type": "code",
      "source": [
        "sum(df[\"Weight\"])/len(df[\"Weight\"])\n",
        "for col in np.array(df.columns):\n",
        "  df[col] -= sum(df[col])/len(df[col])\n",
        "df"
      ],
      "metadata": {
        "id": "1n67xINFz9Ls"
      },
      "execution_count": null,
      "outputs": []
    },
    {
      "cell_type": "code",
      "source": [
        "def mse_loss(y_true, y_pred):\n",
        "  return ((y_true - y_pred)**2).mean()\n"
      ],
      "metadata": {
        "id": "ikVbjjJB1cHR"
      },
      "execution_count": null,
      "outputs": []
    },
    {
      "cell_type": "code",
      "source": [
        "def deriv_sigmoid(x):\n",
        "  fx = sigmoid(x)\n",
        "  return fx * (1 - fx)"
      ],
      "metadata": {
        "id": "EizOPy-y1up2"
      },
      "execution_count": null,
      "outputs": []
    },
    {
      "cell_type": "code",
      "source": [
        "class RecogGenderNeuron():\n",
        "  def __init__(self):\n",
        "        # Вес\n",
        "        self.w1 = np.random.normal()\n",
        "        self.w2 = np.random.normal()\n",
        "        self.w3 = np.random.normal()\n",
        "        self.w4 = np.random.normal()\n",
        "        self.w5 = np.random.normal()\n",
        "        self.w6 = np.random.normal()\n",
        " \n",
        "        # Смещения\n",
        "        self.b1 = np.random.normal()\n",
        "        self.b2 = np.random.normal()\n",
        "        self.b3 = np.random.normal()\n",
        " \n",
        "  def feedforward(self, x):\n",
        "        # x является массивом numpy с двумя элементами\n",
        "        h1 = sigmoid(self.w1 * x[0] + self.w2 * x[1] + self.b1)\n",
        "        h2 = sigmoid(self.w3 * x[0] + self.w4 * x[1] + self.b2)\n",
        "        o1 = sigmoid(self.w5 * h1 + self.w6 * h2 + self.b3)\n",
        "        return o1\n",
        "  def train(self, data, all_y, learn_rate=0.1, epoches=1000):\n",
        "    for epoch in range(epoches):\n",
        "      for x, y in zip(data, all_y):\n",
        "        sum_h1 = self.w1 * x[0] + self.w2 * x[1] + self.b1\n",
        "        h1 = sigmoid(sum_h1)\n",
        "\n",
        "        sum_h2 = self.w3 * x[0] + self.w4 * x[1] + self.b2\n",
        "        h2 = sigmoid(sum_h2)\n",
        "\n",
        "        sum_o1 = self.w5 * h1 + self.w6 * h2 + self.b3\n",
        "        o1 = sigmoid(sum_o1)\n",
        "        y_pred = o1\n",
        "\n",
        "        d_L_d_ypred = -2 * (y - y_pred)\n",
        "\n",
        "        # Нейрон o1\n",
        "        d_ypred_d_w5 = h1 * deriv_sigmoid(sum_o1)\n",
        "        d_ypred_d_w6 = h2 * deriv_sigmoid(sum_o1)\n",
        "        d_ypred_d_b3 = deriv_sigmoid(sum_o1)\n",
        "\n",
        "        d_ypred_d_h1 = self.w5 * deriv_sigmoid(sum_o1)\n",
        "        d_ypred_d_h2 = self.w6 * deriv_sigmoid(sum_o1)\n",
        "\n",
        "        # Нейрон h1\n",
        "        d_h1_d_w1 = x[0] * deriv_sigmoid(sum_h1)\n",
        "        d_h1_d_w2 = x[1] * deriv_sigmoid(sum_h1)\n",
        "        d_h1_d_b1 = deriv_sigmoid(sum_h1)\n",
        "\n",
        "        # Нейрон h2\n",
        "        d_h2_d_w3 = x[0] * deriv_sigmoid(sum_h2)\n",
        "        d_h2_d_w4 = x[1] * deriv_sigmoid(sum_h2)\n",
        "        d_h2_d_b2 = deriv_sigmoid(sum_h2)\n",
        "\n",
        "        # --- Обновляем вес и смещения\n",
        "        # Нейрон h1\n",
        "        self.w1 -= learn_rate * d_L_d_ypred * d_ypred_d_h1 * d_h1_d_w1\n",
        "        self.w2 -= learn_rate * d_L_d_ypred * d_ypred_d_h1 * d_h1_d_w2\n",
        "        self.b1 -= learn_rate * d_L_d_ypred * d_ypred_d_h1 * d_h1_d_b1\n",
        "\n",
        "        # Нейрон h2\n",
        "        self.w3 -= learn_rate * d_L_d_ypred * d_ypred_d_h2 * d_h2_d_w3\n",
        "        self.w4 -= learn_rate * d_L_d_ypred * d_ypred_d_h2 * d_h2_d_w4\n",
        "        self.b2 -= learn_rate * d_L_d_ypred * d_ypred_d_h2 * d_h2_d_b2\n",
        "\n",
        "        # Нейрон o1\n",
        "        self.w5 -= learn_rate * d_L_d_ypred * d_ypred_d_w5\n",
        "        self.w6 -= learn_rate * d_L_d_ypred * d_ypred_d_w6\n",
        "        self.b3 -= learn_rate * d_L_d_ypred * d_ypred_d_b3\n",
        "\n",
        "    # --- Подсчитываем общую потерю в конце каждой фазы\n",
        "      if epoch % 10 == 0:\n",
        "          y_preds = np.apply_along_axis(self.feedforward, 1, data)\n",
        "          loss = mse_loss(all_y, y_preds)\n",
        "          print(\"Epoch %d loss: %.3f\" % (epoch, loss))"
      ],
      "metadata": {
        "id": "sPhSx7hC3mAe"
      },
      "execution_count": null,
      "outputs": []
    },
    {
      "cell_type": "code",
      "source": [
        "data = np.array([\n",
        "    [-2, -1],    # Alice\n",
        "    [25, 6],     # Bob\n",
        "    [17, 4],     # Charlie\n",
        "    [-15, -6], # Diana\n",
        "])\n",
        " \n",
        "y = np.array([\n",
        "    1, # Alice\n",
        "    0, # Bob\n",
        "    0, # Charlie\n",
        "    1, # Diana\n",
        "])\n",
        "\n",
        "network = RecogGenderNeuron()\n",
        "network.train(data, y)\n"
      ],
      "metadata": {
        "id": "V6PUpIaR80zF",
        "colab": {
          "base_uri": "https://localhost:8080/"
        },
        "outputId": "1fdec18e-1f25-4f38-aa3d-8c159e73252a"
      },
      "execution_count": null,
      "outputs": [
        {
          "output_type": "stream",
          "name": "stdout",
          "text": [
            "Epoch 0 loss: 0.280\n",
            "Epoch 10 loss: 0.153\n",
            "Epoch 20 loss: 0.092\n",
            "Epoch 30 loss: 0.066\n",
            "Epoch 40 loss: 0.051\n",
            "Epoch 50 loss: 0.042\n",
            "Epoch 60 loss: 0.035\n",
            "Epoch 70 loss: 0.030\n",
            "Epoch 80 loss: 0.026\n",
            "Epoch 90 loss: 0.023\n",
            "Epoch 100 loss: 0.020\n",
            "Epoch 110 loss: 0.018\n",
            "Epoch 120 loss: 0.016\n",
            "Epoch 130 loss: 0.015\n",
            "Epoch 140 loss: 0.014\n",
            "Epoch 150 loss: 0.013\n",
            "Epoch 160 loss: 0.012\n",
            "Epoch 170 loss: 0.011\n",
            "Epoch 180 loss: 0.010\n",
            "Epoch 190 loss: 0.010\n",
            "Epoch 200 loss: 0.009\n",
            "Epoch 210 loss: 0.009\n",
            "Epoch 220 loss: 0.008\n",
            "Epoch 230 loss: 0.008\n",
            "Epoch 240 loss: 0.007\n",
            "Epoch 250 loss: 0.007\n",
            "Epoch 260 loss: 0.007\n",
            "Epoch 270 loss: 0.006\n",
            "Epoch 280 loss: 0.006\n",
            "Epoch 290 loss: 0.006\n",
            "Epoch 300 loss: 0.006\n",
            "Epoch 310 loss: 0.006\n",
            "Epoch 320 loss: 0.005\n",
            "Epoch 330 loss: 0.005\n",
            "Epoch 340 loss: 0.005\n",
            "Epoch 350 loss: 0.005\n",
            "Epoch 360 loss: 0.005\n",
            "Epoch 370 loss: 0.005\n",
            "Epoch 380 loss: 0.004\n",
            "Epoch 390 loss: 0.004\n",
            "Epoch 400 loss: 0.004\n",
            "Epoch 410 loss: 0.004\n",
            "Epoch 420 loss: 0.004\n",
            "Epoch 430 loss: 0.004\n",
            "Epoch 440 loss: 0.004\n",
            "Epoch 450 loss: 0.004\n",
            "Epoch 460 loss: 0.004\n",
            "Epoch 470 loss: 0.003\n",
            "Epoch 480 loss: 0.003\n",
            "Epoch 490 loss: 0.003\n",
            "Epoch 500 loss: 0.003\n",
            "Epoch 510 loss: 0.003\n",
            "Epoch 520 loss: 0.003\n",
            "Epoch 530 loss: 0.003\n",
            "Epoch 540 loss: 0.003\n",
            "Epoch 550 loss: 0.003\n",
            "Epoch 560 loss: 0.003\n",
            "Epoch 570 loss: 0.003\n",
            "Epoch 580 loss: 0.003\n",
            "Epoch 590 loss: 0.003\n",
            "Epoch 600 loss: 0.003\n",
            "Epoch 610 loss: 0.003\n",
            "Epoch 620 loss: 0.003\n",
            "Epoch 630 loss: 0.002\n",
            "Epoch 640 loss: 0.002\n",
            "Epoch 650 loss: 0.002\n",
            "Epoch 660 loss: 0.002\n",
            "Epoch 670 loss: 0.002\n",
            "Epoch 680 loss: 0.002\n",
            "Epoch 690 loss: 0.002\n",
            "Epoch 700 loss: 0.002\n",
            "Epoch 710 loss: 0.002\n",
            "Epoch 720 loss: 0.002\n",
            "Epoch 730 loss: 0.002\n",
            "Epoch 740 loss: 0.002\n",
            "Epoch 750 loss: 0.002\n",
            "Epoch 760 loss: 0.002\n",
            "Epoch 770 loss: 0.002\n",
            "Epoch 780 loss: 0.002\n",
            "Epoch 790 loss: 0.002\n",
            "Epoch 800 loss: 0.002\n",
            "Epoch 810 loss: 0.002\n",
            "Epoch 820 loss: 0.002\n",
            "Epoch 830 loss: 0.002\n",
            "Epoch 840 loss: 0.002\n",
            "Epoch 850 loss: 0.002\n",
            "Epoch 860 loss: 0.002\n",
            "Epoch 870 loss: 0.002\n",
            "Epoch 880 loss: 0.002\n",
            "Epoch 890 loss: 0.002\n",
            "Epoch 900 loss: 0.002\n",
            "Epoch 910 loss: 0.002\n",
            "Epoch 920 loss: 0.002\n",
            "Epoch 930 loss: 0.002\n",
            "Epoch 940 loss: 0.002\n",
            "Epoch 950 loss: 0.002\n",
            "Epoch 960 loss: 0.002\n",
            "Epoch 970 loss: 0.002\n",
            "Epoch 980 loss: 0.002\n",
            "Epoch 990 loss: 0.002\n"
          ]
        }
      ]
    }
  ]
}