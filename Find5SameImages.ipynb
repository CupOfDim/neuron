{
  "nbformat": 4,
  "nbformat_minor": 0,
  "metadata": {
    "colab": {
      "provenance": [],
      "toc_visible": true,
      "mount_file_id": "1FazCa2ktGuq-nyujmNAM6t0BQ5Ob83Lg",
      "authorship_tag": "ABX9TyNjCaJhSklXvwu6oWIQf79b",
      "include_colab_link": true
    },
    "kernelspec": {
      "name": "python3",
      "display_name": "Python 3"
    },
    "language_info": {
      "name": "python"
    }
  },
  "cells": [
    {
      "cell_type": "markdown",
      "metadata": {
        "id": "view-in-github",
        "colab_type": "text"
      },
      "source": [
        "<a href=\"https://colab.research.google.com/github/CupOfDim/neuron/blob/main/Find5SameImages.ipynb\" target=\"_parent\"><img src=\"https://colab.research.google.com/assets/colab-badge.svg\" alt=\"Open In Colab\"/></a>"
      ]
    },
    {
      "cell_type": "code",
      "execution_count": null,
      "metadata": {
        "id": "hIVMlDBc-VOK"
      },
      "outputs": [],
      "source": [
        "import os\n",
        "import keras\n",
        "from keras.preprocessing import image\n",
        "from keras.applications.imagenet_utils import decode_predictions, preprocess_input\n",
        "from keras.models import Model\n",
        "from tensorflow.keras import applications\n",
        "import tensorflow as tf\n",
        "from tensorflow.keras.models import save_model\n",
        "import tensorflow.keras.layers as L\n",
        "import numpy as np\n",
        "from sklearn.model_selection import train_test_split\n",
        "import matplotlib.pyplot as plt\n",
        "import cv2\n",
        "import pandas as pd\n",
        "import tqdm\n",
        "from skimage import io\n",
        "import glob"
      ]
    },
    {
      "cell_type": "code",
      "source": [
        "path = \"/content/drive/MyDrive/dataset\"\n",
        "filelist = [] \n",
        "for root, dirs, files in os.walk(path): \n",
        "    for file in files: \n",
        "        #append the file name to the list \n",
        "        filelist.append(os.path.join(root,file))\n",
        "  "
      ],
      "metadata": {
        "id": "n75xjkAvHkMD"
      },
      "execution_count": 5,
      "outputs": []
    },
    {
      "cell_type": "code",
      "source": [
        "print(filelist[0])"
      ],
      "metadata": {
        "colab": {
          "base_uri": "https://localhost:8080/"
        },
        "id": "BVKRFw4nOz_J",
        "outputId": "f2608d61-5568-4a67-c5be-9b845470fa7a"
      },
      "execution_count": 15,
      "outputs": [
        {
          "output_type": "stream",
          "name": "stdout",
          "text": [
            "/content/drive/MyDrive/dataset/0203.png\n"
          ]
        }
      ]
    },
    {
      "cell_type": "code",
      "source": [
        "def image2array(filelist):\n",
        "    image_array = []\n",
        "    for image in filelist[:200]:\n",
        "        img = io.imread(image)\n",
        "        img = cv2.cvtColor(img, cv2.COLOR_BGR2RGB)\n",
        "        img = cv2.resize(img, (224,224))\n",
        "        image_array.append(img)\n",
        "    image_array = np.array(image_array)\n",
        "    image_array = image_array.reshape(image_array.shape[0], 224, 224, 3)\n",
        "    image_array = image_array.astype('float32')\n",
        "    image_array /= 255\n",
        "    return np.array(image_array)\n",
        "\n",
        "train_data = image2array(filelist)\n",
        "print(\"Length of training dataset:\", train_data.shape)"
      ],
      "metadata": {
        "colab": {
          "base_uri": "https://localhost:8080/"
        },
        "id": "d1d4aeU22do-",
        "outputId": "fc58b17c-2c50-48a1-b78e-9ce97523142a"
      },
      "execution_count": 6,
      "outputs": [
        {
          "output_type": "stream",
          "name": "stdout",
          "text": [
            "Length of training dataset: (200, 224, 224, 3)\n"
          ]
        }
      ]
    },
    {
      "cell_type": "code",
      "source": [
        "IMG_SHAPE = train_data.shape[1:]\n",
        "def build_autoencoder(image_shape, code_size):\n",
        "  H,W,C = image_shape\n",
        "  # encoder\n",
        "  encoder = tf.keras.models.Sequential()\n",
        "  encoder.add(L.InputLayer(image_shape))\n",
        "  encoder.add(L.Conv2D(filters=32,kernel_size=[3,3], activation=\"relu\",padding=\"same\"))\n",
        "  encoder.add(L.MaxPooling2D(pool_size=(2,2)))\n",
        "  encoder.add(L.Conv2D(filters=64,kernel_size=[3,3], activation=\"relu\",padding=\"same\"))\n",
        "  encoder.add(L.MaxPooling2D(pool_size=(2,2)))\n",
        "  encoder.add(L.Conv2D(filters=128,kernel_size=[3,3], activation=\"relu\",padding=\"same\"))\n",
        "  encoder.add(L.MaxPooling2D(pool_size=(2,2)))\n",
        "  encoder.add(L.Conv2D(filters=256,kernel_size=[3,3], activation=\"relu\",padding=\"same\"))\n",
        "  encoder.add(L.MaxPooling2D(pool_size=(2,2)))\n",
        "  encoder.add(L.Flatten())\n",
        "  encoder.add(L.Dense(code_size))\n",
        "\n",
        "  # decoder\n",
        "  decoder = tf.keras.models.Sequential()\n",
        "  decoder.add(L.InputLayer(code_size))\n",
        "  decoder.add(L.Dense(14*14*256))\n",
        "  decoder.add(L.Reshape((14,14,256)))\n",
        "  decoder.add(L.Conv2DTranspose(filters=128,kernel_size=[3,3], activation=\"relu\",padding=\"same\",strides=2))\n",
        "  decoder.add(L.Conv2DTranspose(filters=64,kernel_size=[3,3], activation=\"relu\",padding=\"same\",strides=2))\n",
        "  decoder.add(L.Conv2DTranspose(filters=32,kernel_size=[3,3], activation=\"relu\",padding=\"same\",strides=2))\n",
        "  decoder.add(L.Conv2DTranspose(filters=3,kernel_size=[3,3], activation=None,padding=\"same\",strides=2))\n",
        "\n",
        "  return encoder, decoder\n",
        "\n",
        "encoder, decoder = build_autoencoder(IMG_SHAPE, 32)\n",
        "encoder.summary()\n",
        "decoder.summary()\n",
        "\n",
        "\n",
        "\n"
      ],
      "metadata": {
        "colab": {
          "base_uri": "https://localhost:8080/"
        },
        "id": "aGJNdEOl_yMi",
        "outputId": "cf7efdb5-69b8-49ba-a09c-9b8aa668bb42"
      },
      "execution_count": 10,
      "outputs": [
        {
          "output_type": "stream",
          "name": "stdout",
          "text": [
            "Model: \"sequential_4\"\n",
            "_________________________________________________________________\n",
            " Layer (type)                Output Shape              Param #   \n",
            "=================================================================\n",
            " conv2d_8 (Conv2D)           (None, 224, 224, 32)      896       \n",
            "                                                                 \n",
            " max_pooling2d_8 (MaxPooling  (None, 112, 112, 32)     0         \n",
            " 2D)                                                             \n",
            "                                                                 \n",
            " conv2d_9 (Conv2D)           (None, 112, 112, 64)      18496     \n",
            "                                                                 \n",
            " max_pooling2d_9 (MaxPooling  (None, 56, 56, 64)       0         \n",
            " 2D)                                                             \n",
            "                                                                 \n",
            " conv2d_10 (Conv2D)          (None, 56, 56, 128)       73856     \n",
            "                                                                 \n",
            " max_pooling2d_10 (MaxPoolin  (None, 28, 28, 128)      0         \n",
            " g2D)                                                            \n",
            "                                                                 \n",
            " conv2d_11 (Conv2D)          (None, 28, 28, 256)       295168    \n",
            "                                                                 \n",
            " max_pooling2d_11 (MaxPoolin  (None, 14, 14, 256)      0         \n",
            " g2D)                                                            \n",
            "                                                                 \n",
            " flatten_2 (Flatten)         (None, 50176)             0         \n",
            "                                                                 \n",
            " dense_4 (Dense)             (None, 32)                1605664   \n",
            "                                                                 \n",
            "=================================================================\n",
            "Total params: 1,994,080\n",
            "Trainable params: 1,994,080\n",
            "Non-trainable params: 0\n",
            "_________________________________________________________________\n",
            "Model: \"sequential_5\"\n",
            "_________________________________________________________________\n",
            " Layer (type)                Output Shape              Param #   \n",
            "=================================================================\n",
            " dense_5 (Dense)             (None, 50176)             1655808   \n",
            "                                                                 \n",
            " reshape_1 (Reshape)         (None, 14, 14, 256)       0         \n",
            "                                                                 \n",
            " conv2d_transpose_4 (Conv2DT  (None, 28, 28, 128)      295040    \n",
            " ranspose)                                                       \n",
            "                                                                 \n",
            " conv2d_transpose_5 (Conv2DT  (None, 56, 56, 64)       73792     \n",
            " ranspose)                                                       \n",
            "                                                                 \n",
            " conv2d_transpose_6 (Conv2DT  (None, 112, 112, 32)     18464     \n",
            " ranspose)                                                       \n",
            "                                                                 \n",
            " conv2d_transpose_7 (Conv2DT  (None, 224, 224, 3)      867       \n",
            " ranspose)                                                       \n",
            "                                                                 \n",
            "=================================================================\n",
            "Total params: 2,043,971\n",
            "Trainable params: 2,043,971\n",
            "Non-trainable params: 0\n",
            "_________________________________________________________________\n"
          ]
        }
      ]
    },
    {
      "cell_type": "code",
      "source": [
        "inp = L.Input(IMG_SHAPE)\n",
        "code = encoder(inp)\n",
        "reconstruction = decoder(code)\n",
        "\n",
        "autoencoder = tf.keras.models.Model(inputs=inp, outputs=reconstruction)\n",
        "autoencoder.compile(optimizer=\"adamax\", loss='mse')\n",
        "autoencoder.fit(x=train_data, y=train_data, epochs=10, verbose=1)"
      ],
      "metadata": {
        "colab": {
          "base_uri": "https://localhost:8080/"
        },
        "id": "niXDp9ytKrma",
        "outputId": "59396648-8db7-4e71-8395-2c252b98fdd3"
      },
      "execution_count": 14,
      "outputs": [
        {
          "output_type": "stream",
          "name": "stdout",
          "text": [
            "Epoch 1/10\n",
            "7/7 [==============================] - 46s 6s/step - loss: 0.3575\n",
            "Epoch 2/10\n",
            "7/7 [==============================] - 39s 6s/step - loss: 0.2155\n",
            "Epoch 3/10\n",
            "7/7 [==============================] - 55s 7s/step - loss: 0.1297\n",
            "Epoch 4/10\n",
            "7/7 [==============================] - 50s 7s/step - loss: 0.0892\n",
            "Epoch 5/10\n",
            "7/7 [==============================] - 50s 7s/step - loss: 0.0750\n",
            "Epoch 6/10\n",
            "7/7 [==============================] - 42s 6s/step - loss: 0.0657\n",
            "Epoch 7/10\n",
            "7/7 [==============================] - 44s 6s/step - loss: 0.0627\n",
            "Epoch 8/10\n",
            "7/7 [==============================] - 49s 7s/step - loss: 0.0596\n",
            "Epoch 9/10\n",
            "7/7 [==============================] - 47s 6s/step - loss: 0.0587\n",
            "Epoch 10/10\n",
            "7/7 [==============================] - 42s 6s/step - loss: 0.0579\n"
          ]
        },
        {
          "output_type": "execute_result",
          "data": {
            "text/plain": [
              "<keras.callbacks.History at 0x7ff5b68a43a0>"
            ]
          },
          "metadata": {},
          "execution_count": 14
        }
      ]
    },
    {
      "cell_type": "code",
      "source": [
        "images = train_data\n",
        "codes = encoder.predict(images)"
      ],
      "metadata": {
        "colab": {
          "base_uri": "https://localhost:8080/"
        },
        "id": "HG6ccny3P14w",
        "outputId": "221f269e-7ef3-4bcf-92bc-10bbdafd2944"
      },
      "execution_count": 17,
      "outputs": [
        {
          "output_type": "stream",
          "name": "stdout",
          "text": [
            "7/7 [==============================] - 15s 2s/step\n"
          ]
        }
      ]
    },
    {
      "cell_type": "code",
      "source": [
        "from sklearn.neighbors import NearestNeighbors\n",
        "nei_clf = NearestNeighbors(metric=\"euclidean\")\n",
        "nei_clf.fit(codes)"
      ],
      "metadata": {
        "colab": {
          "base_uri": "https://localhost:8080/"
        },
        "id": "z2HUFaajM-Cl",
        "outputId": "4c4060fe-72c4-4622-95fc-80db7c1845bb"
      },
      "execution_count": 29,
      "outputs": [
        {
          "output_type": "execute_result",
          "data": {
            "text/plain": [
              "NearestNeighbors(metric='euclidean')"
            ]
          },
          "metadata": {},
          "execution_count": 29
        }
      ]
    },
    {
      "cell_type": "code",
      "source": [
        "def get_similar(image, n_neighbors=5):\n",
        "    assert image.ndim==3,\"image must be [batch,height,width,3]\"\n",
        "    code = encoder.predict(image[None])    \n",
        "    (distances,),(idx,) = nei_clf.kneighbors(code,n_neighbors=n_neighbors)\n",
        "    return distances,images[idx]\n",
        "def show_similar(image):\n",
        "    distances,neighbors = get_similar(image,n_neighbors=3)\n",
        "    plt.figure(figsize=[8,7])\n",
        "    plt.subplot(1,4,1)\n",
        "    plt.imshow(image)\n",
        "    plt.title(\"Original image\")\n",
        "    \n",
        "    for i in range(3):\n",
        "        plt.subplot(1,4,i+2)\n",
        "        plt.imshow(neighbors[i])\n",
        "        plt.title(\"Dist=%.3f\"%distances[i])\n",
        "    plt.show()"
      ],
      "metadata": {
        "id": "3w4K9vZ0SgIY"
      },
      "execution_count": 30,
      "outputs": []
    },
    {
      "cell_type": "code",
      "source": [
        "def get_similar(image, n_neighbors=5):\n",
        "  assert image.ndim == 3\n",
        "  code = encoder.predict(image[None])\n",
        "  (dist,), (ind,) = nei_clf.kneighbors(code, n_neighbors=n_neighbors)\n",
        "  return dist, images[ind]\n",
        "\n",
        "def show_similar(image):\n",
        "  dist, neighbors = get_similar(image, n_neighbors=5)\n",
        "  plt.figure(figsize=[8,7])\n",
        "  plt.subplot(1,4,1)\n",
        "  plt.imshow(image)\n",
        "  plt.title(\"Original image\")\n",
        "\n",
        "  for i in range(5):\n",
        "    plt.subplot(1,6,i+2)\n",
        "    plt.imshow(neighbors[i])\n",
        "    plt.title(\"Dist=%.3f\"%dist[i])\n",
        "  plt.show()\n",
        "show_similar(train_data[90])\n"
      ],
      "metadata": {
        "colab": {
          "base_uri": "https://localhost:8080/",
          "height": 145
        },
        "id": "i3-nhUPDN2j5",
        "outputId": "1998f471-4f5a-4c75-e5a0-33b7728cc493"
      },
      "execution_count": 55,
      "outputs": [
        {
          "output_type": "stream",
          "name": "stdout",
          "text": [
            "1/1 [==============================] - 0s 129ms/step\n"
          ]
        },
        {
          "output_type": "display_data",
          "data": {
            "text/plain": [
              "<Figure size 576x504 with 5 Axes>"
            ],
            "image/png": "[encoded data removed]"
          },
          "metadata": {
            "needs_background": "light"
          }
        }
      ]
    }
  ]
}